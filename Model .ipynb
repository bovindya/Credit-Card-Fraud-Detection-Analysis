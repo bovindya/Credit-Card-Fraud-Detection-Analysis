{
  "nbformat": 4,
  "nbformat_minor": 0,
  "metadata": {
    "colab": {
      "provenance": []
    },
    "kernelspec": {
      "name": "python3",
      "display_name": "Python 3"
    },
    "language_info": {
      "name": "python"
    }
  },
  "cells": [
    {
      "cell_type": "code",
      "execution_count": 94,
      "metadata": {
        "id": "0kP79a6HkOOC"
      },
      "outputs": [],
      "source": [
        "import pandas as pd\n",
        "from sklearn.preprocessing import StandardScaler\n",
        "from sklearn.metrics import accuracy_score, precision_score, recall_score, f1_score, roc_auc_score\n",
        "from imblearn.over_sampling import SMOTE\n",
        "import tensorflow as tf\n",
        "from tensorflow.keras.models import Sequential\n",
        "from tensorflow.keras.layers import Dense, Dropout, BatchNormalization\n",
        "from tensorflow.keras.optimizers import Adam\n",
        "from tensorflow.keras.wrappers.scikit_learn import KerasClassifier\n",
        "from tensorflow.keras.callbacks import ReduceLROnPlateau\n",
        "from sklearn.model_selection import GridSearchCV"
      ]
    },
    {
      "cell_type": "code",
      "source": [
        "train_data = pd.read_csv('/content/Trainlast1_dataset.csv')\n",
        "test_data = pd.read_csv('/content/Testlast1_dataset.csv')"
      ],
      "metadata": {
        "id": "c3SOcSPAnRgb"
      },
      "execution_count": 95,
      "outputs": []
    },
    {
      "cell_type": "code",
      "source": [
        "# Separate features and target for training\n",
        "X_train = train_data.drop('is_fraud', axis=1)\n",
        "y_train = train_data['is_fraud']"
      ],
      "metadata": {
        "id": "BQMO0qZJnU6G"
      },
      "execution_count": 97,
      "outputs": []
    },
    {
      "cell_type": "code",
      "source": [
        "# Separate features and target for testing\n",
        "X_test = test_data.drop('is_fraud', axis=1)\n",
        "y_test = test_data['is_fraud']"
      ],
      "metadata": {
        "id": "Sfbus1KinXZy"
      },
      "execution_count": 99,
      "outputs": []
    },
    {
      "cell_type": "code",
      "source": [
        "# Feature scaling\n",
        "scaler = StandardScaler()\n",
        "X_train_scaled = scaler.fit_transform(X_train)\n",
        "X_test_scaled = scaler.transform(X_test)"
      ],
      "metadata": {
        "id": "6c00hm_0naFs"
      },
      "execution_count": 100,
      "outputs": []
    },
    {
      "cell_type": "code",
      "source": [
        "\n",
        "# Apply SMOTE for oversampling\n",
        "smote = SMOTE(random_state=42)\n",
        "X_train_resampled, y_train_resampled = smote.fit_resample(X_train_scaled, y_train)\n"
      ],
      "metadata": {
        "id": "ukSHqHWbnm7k"
      },
      "execution_count": 102,
      "outputs": []
    },
    {
      "cell_type": "code",
      "source": [
        "from tensorflow.keras.optimizers import Adam\n",
        "from tensorflow.keras.layers import Activation, Dropout\n",
        "from tensorflow.keras.regularizers import l2\n",
        "from tensorflow.keras.initializers import GlorotUniform\n",
        "\n",
        "# Create a function to build the model\n",
        "def create_model(optimizer=Adam(learning_rate=0.001), dropout_rate=0.3, units_1=512, units_2=256):\n",
        "    model = Sequential([\n",
        "        Dense(units_1, input_dim=X_train_scaled.shape[1], kernel_initializer=GlorotUniform()),\n",
        "        Activation('relu'),\n",
        "        BatchNormalization(),\n",
        "        Dropout(dropout_rate),\n",
        "\n",
        "        Dense(units_2, kernel_regularizer=l2(0.001), kernel_initializer=GlorotUniform()),\n",
        "        Activation('relu'),\n",
        "        BatchNormalization(),\n",
        "        Dropout(dropout_rate),\n",
        "\n",
        "        Dense(units_2, kernel_regularizer=l2(0.001), kernel_initializer=GlorotUniform()),\n",
        "        Activation('relu'),\n",
        "        BatchNormalization(),\n",
        "        Dropout(dropout_rate),\n",
        "\n",
        "        Dense(1, activation='sigmoid')\n",
        "    ])\n",
        "\n",
        "    model.compile(optimizer=optimizer, loss='binary_crossentropy', metrics=['accuracy'])\n",
        "    return model\n"
      ],
      "metadata": {
        "id": "5COX_JqpnqZs"
      },
      "execution_count": 112,
      "outputs": []
    },
    {
      "cell_type": "code",
      "source": [
        "\n",
        "# Initialize KerasClassifier\n",
        "keras_classifier = KerasClassifier(build_fn=create_model, verbose=0)"
      ],
      "metadata": {
        "colab": {
          "base_uri": "https://localhost:8080/"
        },
        "id": "-kqwTfglnuQn",
        "outputId": "bdc5a7a5-9859-4248-d741-b17726d2fdfc"
      },
      "execution_count": 113,
      "outputs": [
        {
          "output_type": "stream",
          "name": "stderr",
          "text": [
            "<ipython-input-113-9ef6d4d851ee>:2: DeprecationWarning: KerasClassifier is deprecated, use Sci-Keras (https://github.com/adriangb/scikeras) instead. See https://www.adriangb.com/scikeras/stable/migration.html for help migrating.\n",
            "  keras_classifier = KerasClassifier(build_fn=create_model, verbose=0)\n"
          ]
        }
      ]
    },
    {
      "cell_type": "code",
      "source": [
        "# Define hyperparameters to tune\n",
        "param_grid = {\n",
        "    'optimizer': ['adam', 'sgd'],\n",
        "    'dropout_rate': [0.2, 0.3],\n",
        "    'units_1': [128, 256],  # Increase units for more capacity\n",
        "    'units_2': [64, 128]    # Increase units for more capacity\n",
        "}"
      ],
      "metadata": {
        "id": "23NcgJxwnxqJ"
      },
      "execution_count": 115,
      "outputs": []
    },
    {
      "cell_type": "code",
      "source": [
        "\n",
        "# Initialize GridSearchCV\n",
        "grid_search = GridSearchCV(estimator=keras_classifier, param_grid=param_grid, scoring='accuracy', cv=5)\n",
        "\n"
      ],
      "metadata": {
        "id": "uGRZISran0Xk"
      },
      "execution_count": 116,
      "outputs": []
    },
    {
      "cell_type": "code",
      "source": [
        "# Fit GridSearchCV on data\n",
        "grid_search_result = grid_search.fit(X_train_resampled, y_train_resampled)\n",
        "\n"
      ],
      "metadata": {
        "colab": {
          "base_uri": "https://localhost:8080/"
        },
        "id": "lcr5dZVQn305",
        "outputId": "c3f6de9e-afa8-4510-cc29-468419e99297"
      },
      "execution_count": 117,
      "outputs": [
        {
          "output_type": "stream",
          "name": "stdout",
          "text": [
            "94/94 [==============================] - 0s 2ms/step\n",
            "94/94 [==============================] - 0s 1ms/step\n",
            "94/94 [==============================] - 0s 1ms/step\n",
            "94/94 [==============================] - 0s 1ms/step\n",
            "94/94 [==============================] - 0s 2ms/step\n",
            "94/94 [==============================] - 0s 1ms/step\n",
            "94/94 [==============================] - 0s 1ms/step\n",
            "94/94 [==============================] - 0s 2ms/step\n",
            "94/94 [==============================] - 0s 1ms/step\n",
            "94/94 [==============================] - 0s 1ms/step\n",
            "94/94 [==============================] - 0s 1ms/step\n",
            "94/94 [==============================] - 0s 1ms/step\n",
            "94/94 [==============================] - 0s 2ms/step\n",
            "94/94 [==============================] - 0s 1ms/step\n",
            "94/94 [==============================] - 0s 1ms/step\n",
            "94/94 [==============================] - 0s 2ms/step\n",
            "94/94 [==============================] - 0s 1ms/step\n",
            "94/94 [==============================] - 0s 2ms/step\n",
            "94/94 [==============================] - 0s 2ms/step\n",
            "94/94 [==============================] - 0s 2ms/step\n",
            "94/94 [==============================] - 0s 2ms/step\n",
            "94/94 [==============================] - 0s 1ms/step\n",
            "94/94 [==============================] - 0s 2ms/step\n",
            "94/94 [==============================] - 0s 1ms/step\n",
            "94/94 [==============================] - 0s 1ms/step\n",
            "94/94 [==============================] - 0s 2ms/step\n",
            "94/94 [==============================] - 0s 1ms/step\n",
            "94/94 [==============================] - 0s 1ms/step\n",
            "94/94 [==============================] - 0s 2ms/step\n",
            "94/94 [==============================] - 0s 2ms/step\n",
            "94/94 [==============================] - 0s 1ms/step\n",
            "94/94 [==============================] - 0s 1ms/step\n",
            "94/94 [==============================] - 0s 2ms/step\n",
            "94/94 [==============================] - 0s 2ms/step\n",
            "94/94 [==============================] - 0s 2ms/step\n",
            "94/94 [==============================] - 0s 2ms/step\n",
            "94/94 [==============================] - 0s 2ms/step\n",
            "94/94 [==============================] - 0s 2ms/step\n",
            "94/94 [==============================] - 0s 2ms/step\n",
            "94/94 [==============================] - 0s 2ms/step\n",
            "94/94 [==============================] - 0s 2ms/step\n",
            "94/94 [==============================] - 0s 1ms/step\n",
            "94/94 [==============================] - 0s 2ms/step\n",
            "94/94 [==============================] - 0s 1ms/step\n",
            "94/94 [==============================] - 0s 2ms/step\n",
            "94/94 [==============================] - 0s 1ms/step\n",
            "94/94 [==============================] - 0s 2ms/step\n",
            "94/94 [==============================] - 0s 2ms/step\n",
            "94/94 [==============================] - 0s 1ms/step\n",
            "94/94 [==============================] - 0s 2ms/step\n",
            "94/94 [==============================] - 0s 1ms/step\n",
            "94/94 [==============================] - 0s 2ms/step\n",
            "94/94 [==============================] - 0s 1ms/step\n",
            "94/94 [==============================] - 0s 1ms/step\n",
            "94/94 [==============================] - 0s 2ms/step\n",
            "94/94 [==============================] - 0s 2ms/step\n",
            "94/94 [==============================] - 0s 2ms/step\n",
            "94/94 [==============================] - 0s 1ms/step\n",
            "94/94 [==============================] - 0s 1ms/step\n",
            "94/94 [==============================] - 0s 2ms/step\n",
            "94/94 [==============================] - 0s 2ms/step\n",
            "94/94 [==============================] - 0s 1ms/step\n",
            "94/94 [==============================] - 0s 1ms/step\n",
            "94/94 [==============================] - 0s 2ms/step\n",
            "94/94 [==============================] - 0s 2ms/step\n",
            "94/94 [==============================] - 0s 1ms/step\n",
            "94/94 [==============================] - 0s 2ms/step\n",
            "94/94 [==============================] - 0s 2ms/step\n",
            "94/94 [==============================] - 0s 2ms/step\n",
            "94/94 [==============================] - 0s 1ms/step\n",
            "94/94 [==============================] - 0s 2ms/step\n",
            "94/94 [==============================] - 0s 2ms/step\n",
            "94/94 [==============================] - 0s 1ms/step\n",
            "94/94 [==============================] - 0s 2ms/step\n",
            "94/94 [==============================] - 0s 2ms/step\n",
            "94/94 [==============================] - 0s 2ms/step\n",
            "94/94 [==============================] - 0s 2ms/step\n",
            "94/94 [==============================] - 0s 2ms/step\n",
            "94/94 [==============================] - 0s 2ms/step\n",
            "94/94 [==============================] - 0s 2ms/step\n"
          ]
        }
      ]
    },
    {
      "cell_type": "code",
      "source": [
        "\n",
        "# Get best parameters and best score\n",
        "best_params = grid_search_result.best_params_\n",
        "best_score = grid_search_result.best_score_\n",
        "\n",
        "print(f'Best Parameters: {best_params}')\n",
        "print(f'Best Score: {best_score}')\n"
      ],
      "metadata": {
        "colab": {
          "base_uri": "https://localhost:8080/"
        },
        "id": "5duMrhojn6fb",
        "outputId": "c375559b-529a-44de-fb77-404a89857be8"
      },
      "execution_count": 118,
      "outputs": [
        {
          "output_type": "stream",
          "name": "stdout",
          "text": [
            "Best Parameters: {'dropout_rate': 0.2, 'optimizer': 'adam', 'units_1': 256, 'units_2': 128}\n",
            "Best Score: 0.8299897970117824\n"
          ]
        }
      ]
    },
    {
      "cell_type": "code",
      "source": [
        "# Use the best model to make predictions\n",
        "best_model = grid_search_result.best_estimator_\n",
        "y_pred_probs = best_model.predict(X_test_scaled)\n",
        "y_pred = (y_pred_probs > 0.5).astype(int)\n"
      ],
      "metadata": {
        "colab": {
          "base_uri": "https://localhost:8080/"
        },
        "id": "O-xNEWAfn_lX",
        "outputId": "a2955ee3-ccc8-43b6-eb4f-f3435f2baaaa"
      },
      "execution_count": 119,
      "outputs": [
        {
          "output_type": "stream",
          "name": "stdout",
          "text": [
            "135/135 [==============================] - 0s 1ms/step\n"
          ]
        }
      ]
    },
    {
      "cell_type": "code",
      "source": [
        "# Evaluate the model\n",
        "accuracy = accuracy_score(y_test, y_pred)\n",
        "precision = precision_score(y_test, y_pred)\n",
        "recall = recall_score(y_test, y_pred)\n",
        "f1 = f1_score(y_test, y_pred)\n",
        "roc_auc = roc_auc_score(y_test, y_pred_probs)\n",
        "\n",
        "print(f'Accuracy: {accuracy:.2f}')\n",
        "print(f'Precision: {precision:.2f}')\n",
        "print(f'Recall: {recall:.2f}')\n",
        "print(f'F1-score: {f1:.2f}')\n",
        "print(f'ROC-AUC: {roc_auc:.2f}')\n",
        "\n"
      ],
      "metadata": {
        "colab": {
          "base_uri": "https://localhost:8080/"
        },
        "id": "oP9YyW4YoCOG",
        "outputId": "0769713e-cc04-4fe9-a1d3-a41bd62c185f"
      },
      "execution_count": 121,
      "outputs": [
        {
          "output_type": "stream",
          "name": "stdout",
          "text": [
            "Accuracy: 0.87\n",
            "Precision: 0.97\n",
            "Recall: 0.77\n",
            "F1-score: 0.86\n",
            "ROC-AUC: 0.87\n"
          ]
        }
      ]
    }
  ]
}